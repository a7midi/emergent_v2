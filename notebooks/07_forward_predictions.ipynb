{
 "cells": [
  {
   "cell_type": "markdown",
   "metadata": {},
   "source": [
    "# 07 · Prediction cards (Phase D)\n",
    "\n",
    "This notebook demonstrates three publishable cards using the final, paper-derived physics maps:\n",
    "1. Weak mixing curve $\\sin^2(\\theta_W)(k)$ with an uncertainty band.\n",
    "2. Cosmology: a first-pass $\\Lambda$ proxy from the paper-derived $(q,R)$ mapping.\n",
    "3. Neutron EDM proxy from depth-parity CPV."
   ]
  },
  {
   "cell_type": "code",
   "execution_count": null,
   "metadata": {},
   "outputs": [],
   "source": [
    "import numpy as np\n",
    "import matplotlib.pyplot as plt\n",
    "\n",
    "from emergent.rg import CouplingVector\n",
    "from emergent.predict import make_card_weakmix, make_card_cosmology, make_card_edm\n",
    "from emergent.physics_maps import make_hooks_from_module\n",
    "\n",
    "# Load the final, paper-derived physics maps\n",
    "try:\n",
    "    hooks = make_hooks_from_module(\"emergent.paper_maps.v8\")\n",
    "    print(\"Loaded first-principles physics maps from emergent.paper_maps.v8\")\n",
    "except Exception as e:\n",
    "    print(f\"Could not load paper_maps/v8.py, falling back to defaults: {e}\")\n",
    "    hooks = None\n",
    "\n",
    "# Define initial UV conditions and optimal (q,R) from entropy maximization\n",
    "g0 = CouplingVector(g_star=0.65, lambda_mix=0.6, theta_cp=0.1)\n",
    "q, R = 13, 2\n",
    "k_start, k_end = 120.0, 0.0"
   ]
  },
  {
   "cell_type": "markdown",
   "metadata": {},
   "source": [
    "## Card 1: Weak mixing prediction"
   ]
  },
  {
   "cell_type": "code",
   "execution_count": null,
   "metadata": {},
   "outputs": [],
   "source": [
    "from emergent.predict import predict_weak_mixing_curve\n",
    "\n",
    "curve, summary = predict_weak_mixing_curve(\n",
    "    g0, q=q, R=R, k_start=k_start, k_end=k_end, n_grid=101, bootstrap=64, seed=0, hooks=hooks\n",
    ")\n",
    "\n",
    "plt.figure(figsize=(6.2,4.2))\n",
    "plt.fill_between(curve.k, curve.lo, curve.hi, alpha=0.25, label=\"±1σ\")\n",
    "plt.plot(curve.k, curve.mean, label=\"mean\")\n",
    "plt.xlabel(\"k (Energy Scale)\"); plt.ylabel(\"sin²(θ_W)\"); plt.title(\"Weak Mixing Prediction (RG Flow)\"); plt.legend(); plt.grid(True, alpha=0.2)\n",
    "plt.show()\n",
    "\n",
    "summary"
   ]
  },
  {
   "cell_type": "markdown",
   "metadata": {},
   "source": [
    "## Card 2: Cosmology (Λ proxy)"
   ]
  },
  {
   "cell_type": "code",
   "execution_count": null,
   "metadata": {},
   "outputs": [],
   "source": [
    "card_c = make_card_cosmology(q=q, R=R, hooks=hooks)\n",
    "card_c.to_dict()"
   ]
  },
  {
   "cell_type": "markdown",
   "metadata": {},
   "source": [
    "## Card 3: Neutron EDM proxy"
   ]
  },
  {
   "cell_type": "code",
   "execution_count": null,
   "metadata": {},
   "outputs": [],
   "source": [
    "card_e = make_card_edm(g0, q=q, R=R, k_start=k_start, k_end=k_end, hooks=hooks)\n",
    "card_e.to_dict()"
   ]
  }
 ],
 "metadata": {
  "kernelspec": {
   "display_name": "Python 3 (ipykernel)",
   "language": "python",
   "name": "python3"
  },
  "language_info": {
   "name": "python",
   "version": "3.11"
  }
 },
 "nbformat": 4,
 "nbformat_minor": 5
}