{
 "cells": [
  {
   "cell_type": "markdown",
   "metadata": {},
   "source": [
    "# 03 · Lorentz/flatness diagnostics (M08)\n",
    "\n",
    "Myrheim–Meyer dimension and curvature concentration as radius grows.\n",
    "\n",
    "**Refs**: M08 geom, M02 metric, M01 poset. "
   ]
  },
  {
   "cell_type": "code",
   "execution_count": 1,
   "metadata": {},
   "outputs": [
    {
     "name": "stdout",
     "output_type": "stream",
     "text": [
      "radius | |ball| | MM-dim | mean κ | var κ\n",
      "  5.0 |    28 |  0.0105 | -0.4828 |  5.3532\n",
      "  6.0 |    57 |  0.0543 |  0.2676 |  4.8157\n"
     ]
    }
   ],
   "source": [
    "import numpy as np\n",
    "from emergent.poset import CausalSite\n",
    "from emergent.geom import get_nodes_in_ball, estimate_mm_dimension, analyze_curvature_in_ball\n",
    "\n",
    "rng = np.random.default_rng(42)\n",
    "site = CausalSite.generate(n_layers=20, nodes_per_layer=40, R=6, edge_prob=0.5, rng=rng)\n",
    "center = site.nodes[len(site.nodes)//2]\n",
    "radii = [3.0,4.0,5.0,6.0]\n",
    "rows = []\n",
    "for r in radii:\n",
    "    ball = get_nodes_in_ball(site, center, r)\n",
    "    if len(ball) < 15: continue\n",
    "    dim = estimate_mm_dimension(site, ball)\n",
    "    m,v = analyze_curvature_in_ball(site, ball)\n",
    "    rows.append((r, len(ball), dim, m, v))\n",
    "print(\"radius | |ball| | MM-dim | mean κ | var κ\")\n",
    "for r, n, d, m, v in rows:\n",
    "    print(f\"{r:5.1f} | {n:5d} | {d:7.4f} | {m:7.4f} | {v:7.4f}\")"
   ]
  },
  {
   "cell_type": "code",
   "execution_count": null,
   "metadata": {},
   "outputs": [],
   "source": []
  }
 ],
 "metadata": {
  "kernelspec": {
   "display_name": "Python 3 (ipykernel)",
   "language": "python",
   "name": "python3"
  },
  "language_info": {
   "codemirror_mode": {
    "name": "ipython",
    "version": 3
   },
   "file_extension": ".py",
   "mimetype": "text/x-python",
   "name": "python",
   "nbconvert_exporter": "python",
   "pygments_lexer": "ipython3",
   "version": "3.13.6"
  }
 },
 "nbformat": 4,
 "nbformat_minor": 4
}
