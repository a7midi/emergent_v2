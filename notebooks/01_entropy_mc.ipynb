{
 "cells": [
  {
   "cell_type": "markdown",
   "id": "9b597d7e",
   "metadata": {},
   "source": [
    "# 01 · Entropy‑MC (Phase A)\n",
    "Monte‑Carlo dynamic observer entropy. Compares measured S_t with the linear predictor from the minimal hidden layer."
   ]
  },
  {
   "cell_type": "code",
   "execution_count": 1,
   "id": "24a6ccbb",
   "metadata": {},
   "outputs": [
    {
     "name": "stdout",
     "output_type": "stream",
     "text": [
      "Measured S_t   : [8.0, 8.0, 8.0, 8.0, 8.0, 8.0, 8.0, 8.0]\n",
      "Measured ΔS_t  : [0.0, 0.0, 0.0, 0.0, 0.0, 0.0, 0.0]\n",
      "Predicted S_t  : [12.0, 24.0, 36.0, 48.0, 60.0, 72.0, 84.0, 96.0]\n",
      "Predicted ΔS_t : [12.0, 12.0, 12.0, 12.0, 12.0, 12.0, 12.0]\n"
     ]
    }
   ],
   "source": [
    "import numpy as np\n",
    "from emergent.poset import CausalSite\n",
    "from emergent.entropy_mc import run_entropy_monte_carlo, predict_entropy_trajectory\n",
    "\n",
    "seed = 73\n",
    "rng = np.random.default_rng(seed)\n",
    "layers, nodes, R = 6, 6, 4\n",
    "q = 4\n",
    "observer_depth = 3\n",
    "ticks = 8\n",
    "\n",
    "site = CausalSite.generate(n_layers=layers, nodes_per_layer=nodes, R=R, edge_prob=0.6, rng=rng)\n",
    "S, dS = run_entropy_monte_carlo(site, q, observer_depth, ticks, samples=256, seed=11)\n",
    "S_pred, dS_pred = predict_entropy_trajectory(site, q, observer_depth, ticks)\n",
    "print('Measured S_t   :', [round(x,4) for x in S])\n",
    "print('Measured ΔS_t  :', [round(x,4) for x in dS])\n",
    "print('Predicted S_t  :', [round(x,4) for x in S_pred])\n",
    "print('Predicted ΔS_t :', [round(x,4) for x in dS_pred])"
   ]
  },
  {
   "cell_type": "code",
   "execution_count": null,
   "id": "206cebe2-ba7e-4e0d-a033-c93a20feb57b",
   "metadata": {},
   "outputs": [],
   "source": []
  }
 ],
 "metadata": {
  "kernelspec": {
   "display_name": "Python 3 (ipykernel)",
   "language": "python",
   "name": "python3"
  },
  "language_info": {
   "codemirror_mode": {
    "name": "ipython",
    "version": 3
   },
   "file_extension": ".py",
   "mimetype": "text/x-python",
   "name": "python",
   "nbconvert_exporter": "python",
   "pygments_lexer": "ipython3",
   "version": "3.13.2"
  }
 },
 "nbformat": 4,
 "nbformat_minor": 5
}
