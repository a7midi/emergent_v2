{
 "cells": [
  {
   "cell_type": "markdown",
   "metadata": {},
   "source": [
    "# 04 · Einstein/Gravity witness (M11)\n",
    "\n",
    "Block-averaged `g = κ/ρ_mem` vs. radius as a convergence witness.\n",
    "\n",
    "**Refs**: M11 gravity, M08 geom, M01 poset. "
   ]
  },
  {
   "cell_type": "code",
   "execution_count": 1,
   "metadata": {},
   "outputs": [
    {
     "name": "stdout",
     "output_type": "stream",
     "text": [
      "radius | edges | avg g\n",
      "  4.0 |    22 | 0.170952\n",
      "  5.0 |    56 | 0.170256\n",
      "  6.0 |   120 | 0.170543\n",
      "  7.0 |   202 | 0.166606\n"
     ]
    }
   ],
   "source": [
    "import numpy as np\n",
    "from emergent.poset import CausalSite\n",
    "from emergent.geom import get_nodes_in_ball\n",
    "from emergent.gravity import analyze_gravity_in_block\n",
    "\n",
    "rng = np.random.default_rng(7)\n",
    "site = CausalSite.generate(n_layers=20, nodes_per_layer=40, R=6, edge_prob=0.5, rng=rng)\n",
    "center = site.nodes[len(site.nodes)//2]\n",
    "radii = [4.0, 5.0, 6.0, 7.0]\n",
    "print(\"radius | edges | avg g\")\n",
    "for r in radii:\n",
    "    ball = get_nodes_in_ball(site, center, r)\n",
    "    res = analyze_gravity_in_block(site, ball)\n",
    "    val = res['avg_g']\n",
    "    s = 'NaN' if (val is None or (isinstance(val,float) and np.isnan(val))) else f\"{val:.6f}\"\n",
    "    print(f\"{r:5.1f} | {res['num_edges']:5d} | {s}\")"
   ]
  },
  {
   "cell_type": "code",
   "execution_count": null,
   "metadata": {},
   "outputs": [],
   "source": []
  }
 ],
 "metadata": {
  "kernelspec": {
   "display_name": "Python 3 (ipykernel)",
   "language": "python",
   "name": "python3"
  },
  "language_info": {
   "codemirror_mode": {
    "name": "ipython",
    "version": 3
   },
   "file_extension": ".py",
   "mimetype": "text/x-python",
   "name": "python",
   "nbconvert_exporter": "python",
   "pygments_lexer": "ipython3",
   "version": "3.13.6"
  }
 },
 "nbformat": 4,
 "nbformat_minor": 4
}
