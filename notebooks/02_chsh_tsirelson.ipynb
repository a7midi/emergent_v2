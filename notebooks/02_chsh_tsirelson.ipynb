{
 "cells": [
  {
   "cell_type": "markdown",
   "id": "826bff3e",
   "metadata": {},
   "source": [
    "# 02 · CHSH / Tsirelson demo (M07)\n",
    "\n",
    "Two parts:\n",
    "\n",
    "1. **Classical CHSH** on a canonical 3-layer site: the maximum is |S|=2.\n",
    "2. **Demo-only quantum-like** CHSH using the analytic correlation\n",
    "   E(α,β)=cos(α−β): with standard angles the value is S≈2√2.\n",
    "   *This is illustrative only; it is not the deterministic site dynamics.*\n"
   ]
  },
  {
   "cell_type": "code",
   "execution_count": 1,
   "id": "de2151b1",
   "metadata": {},
   "outputs": [
    {
     "name": "stdout",
     "output_type": "stream",
     "text": [
      "Classical S-values: [-2.0, 2.0] | max |S|= 2.0\n",
      "Classical bound=2.0, Tsirelson bound= 2.8284\n"
     ]
    }
   ],
   "source": [
    "import math, numpy as np\n",
    "from emergent.poset import CausalSite\n",
    "from emergent.chsh import run_chsh_experiment, run_chsh_experiment_phase\n",
    "from emergent.update import TagConfig\n",
    "\n",
    "q = 2\n",
    "\n",
    "# --- Part 1: Classical CHSH on a canonical site ---\n",
    "nodes_by_depth = {0: [0,1], 1: [2,3], 2: [4]}\n",
    "adj = {0:[2], 1:[3], 2:[4], 3:[4]}\n",
    "site = CausalSite(nodes_by_depth, adj, R=3)\n",
    "\n",
    "alice, bob = 2, 3\n",
    "hidden = [0, 1]\n",
    "s_vals = []\n",
    "for final_tag in range(q):\n",
    "    s = run_chsh_experiment(site, q, {4: final_tag}, alice, bob, hidden)\n",
    "    s_vals.append(s)\n",
    "print(\"Classical S-values:\", [round(x,4) for x in s_vals], \"| max |S|=\", round(max(abs(x) for x in s_vals),4))\n",
    "print(\"Classical bound=2.0, Tsirelson bound=\", round(2*math.sqrt(2),4))"
   ]
  },
  {
   "cell_type": "markdown",
   "id": "c637de1f",
   "metadata": {},
   "source": [
    "## Part 2: Demo-only analytic quantum-like S\n",
    "Uses E(α,β)=cos(α−β) with the standard angle quartet\n",
    "(a₀,a₁,b₀,b₁)=(0,π/2,π/4,−π/4), giving S=2√2."
   ]
  },
  {
   "cell_type": "code",
   "execution_count": 2,
   "id": "b62ed450",
   "metadata": {},
   "outputs": [
    {
     "name": "stdout",
     "output_type": "stream",
     "text": [
      "Analytic demo S = 2.8284 (Tsirelson bound = 2.8284)\n"
     ]
    }
   ],
   "source": [
    "S_q = run_chsh_experiment_phase()\n",
    "print(f\"Analytic demo S = {S_q:.4f} (Tsirelson bound = {2*math.sqrt(2):.4f})\")"
   ]
  },
  {
   "cell_type": "code",
   "execution_count": null,
   "id": "a36822e0-de51-4bde-a5fa-bccb3227f05b",
   "metadata": {},
   "outputs": [],
   "source": []
  }
 ],
 "metadata": {
  "kernelspec": {
   "display_name": "Python 3 (ipykernel)",
   "language": "python",
   "name": "python3"
  },
  "language_info": {
   "codemirror_mode": {
    "name": "ipython",
    "version": 3
   },
   "file_extension": ".py",
   "mimetype": "text/x-python",
   "name": "python",
   "nbconvert_exporter": "python",
   "pygments_lexer": "ipython3",
   "version": "3.13.6"
  }
 },
 "nbformat": 4,
 "nbformat_minor": 5
}
