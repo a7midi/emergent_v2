{
 "cells": [
  {
   "cell_type": "markdown",
   "id": "c1914c1b",
   "metadata": {},
   "source": [
    "# 01 · Entropy demo (M06)\n",
    "\n",
    "This notebook has two parts:\n",
    "\n",
    "1. **Measured static fiber entropy** on a small site (fast). This uses the\n",
    "   enumerative function from the test suite and stays constant across ticks.\n",
    "2. **Predicted linear growth** from the minimal hidden layer via\n",
    "   `predict_entropy_trajectory`, which visualizes the theoretical identity\n",
    "   without heavy enumeration.\n"
   ]
  },
  {
   "cell_type": "code",
   "execution_count": 1,
   "id": "5b6cfc6f",
   "metadata": {},
   "outputs": [
    {
     "name": "stdout",
     "output_type": "stream",
     "text": [
      "Measured S_t (small site): [6.0, 6.0, 6.0, 6.0, 6.0]\n",
      "Measured ΔS_t: [0.0, 0.0, 0.0, 0.0]\n"
     ]
    }
   ],
   "source": [
    "import numpy as np\n",
    "from emergent.poset import CausalSite\n",
    "from emergent.entropy import run_entropy_simulation, predict_entropy_trajectory\n",
    "\n",
    "# --- Part 1: small, fast measurement (enumeration) ---\n",
    "seed = 73\n",
    "rng = np.random.default_rng(seed)\n",
    "layers, nodes, R = 4, 3, 4    # small site so enumeration is safe\n",
    "q = 2\n",
    "observer_depth = 2\n",
    "ticks = 5\n",
    "\n",
    "site = CausalSite.generate(\n",
    "    n_layers=layers, nodes_per_layer=nodes, R=R, edge_prob=0.6, rng=rng\n",
    ")\n",
    "initial_config = {n: int(rng.integers(q)) for n in site.nodes}\n",
    "\n",
    "entropies, increments = run_entropy_simulation(\n",
    "    site, q, initial_config, observer_depth, ticks\n",
    ")\n",
    "print(f\"Measured S_t (small site): {[round(x, 4) for x in entropies]}\")\n",
    "print(f\"Measured ΔS_t: {[round(x, 4) for x in increments]}\")"
   ]
  },
  {
   "cell_type": "markdown",
   "id": "69c0e9ff",
   "metadata": {},
   "source": [
    "## Predicted linear growth (theory)\n",
    "\n",
    "We now take a more realistic, larger site and use the **prediction** routine\n",
    "to visualize the expected linear growth without attempting to enumerate an\n",
    "intractable fiber."
   ]
  },
  {
   "cell_type": "code",
   "execution_count": 2,
   "id": "c5850db8",
   "metadata": {},
   "outputs": [
    {
     "name": "stdout",
     "output_type": "stream",
     "text": [
      "Predicted S_t (large site): [36.0, 48.0, 60.0, 72.0, 84.0, 96.0]\n",
      "Predicted ΔS_t: [12.0, 12.0, 12.0, 12.0, 12.0]\n"
     ]
    }
   ],
   "source": [
    "rng = np.random.default_rng(101)\n",
    "layers, nodes, R = 6, 6, 4\n",
    "q = 4\n",
    "observer_depth = 3\n",
    "ticks = 6\n",
    "\n",
    "big_site = CausalSite.generate(\n",
    "    n_layers=layers, nodes_per_layer=nodes, R=R, edge_prob=0.6, rng=rng\n",
    ")\n",
    "pred_S, pred_dS = predict_entropy_trajectory(big_site, q, observer_depth, ticks)\n",
    "print(f\"Predicted S_t (large site): {[round(x, 4) for x in pred_S]}\")\n",
    "print(f\"Predicted ΔS_t: {[round(x, 4) for x in pred_dS]}\")"
   ]
  },
  {
   "cell_type": "code",
   "execution_count": null,
   "id": "a156b516-161a-4d80-a756-d37a9cd2c948",
   "metadata": {},
   "outputs": [],
   "source": []
  }
 ],
 "metadata": {
  "kernelspec": {
   "display_name": "Python 3 (ipykernel)",
   "language": "python",
   "name": "python3"
  },
  "language_info": {
   "codemirror_mode": {
    "name": "ipython",
    "version": 3
   },
   "file_extension": ".py",
   "mimetype": "text/x-python",
   "name": "python",
   "nbconvert_exporter": "python",
   "pygments_lexer": "ipython3",
   "version": "3.13.6"
  }
 },
 "nbformat": 4,
 "nbformat_minor": 5
}
