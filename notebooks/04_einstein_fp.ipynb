{
 "cells": [
  {
   "cell_type": "markdown",
   "id": "07393ede",
   "metadata": {},
   "source": [
    "# 04 · Einstein witness (first‑principles)\n",
    "Block‑averaged coupling g = κ_bd / ρ_mem over growing radii as a convergence witness."
   ]
  },
  {
   "cell_type": "code",
   "execution_count": 1,
   "id": "ad989493",
   "metadata": {},
   "outputs": [
    {
     "name": "stdout",
     "output_type": "stream",
     "text": [
      "radius=4.0 | edges=22 | avg g_fp=0.001169\n",
      "radius=5.0 | edges=56 | avg g_fp=0.013818\n",
      "radius=6.0 | edges=120 | avg g_fp=0.002026\n",
      "radius=7.0 | edges=202 | avg g_fp=0.015484\n"
     ]
    }
   ],
   "source": [
    "import numpy as np\n",
    "from emergent.poset import CausalSite\n",
    "from emergent.geom import get_nodes_in_ball\n",
    "from emergent.gravity_fp import analyze_gravity_in_block_fp\n",
    "\n",
    "rng = np.random.default_rng(7)\n",
    "site = CausalSite.generate(n_layers=20, nodes_per_layer=40, R=6, edge_prob=0.5, rng=rng)\n",
    "center = site.nodes[len(site.nodes)//2]\n",
    "for r in [4.0,5.0,6.0,7.0]:\n",
    "    ball = get_nodes_in_ball(site, center, r)\n",
    "    res = analyze_gravity_in_block_fp(site, ball, scheme='4D-lite')\n",
    "    avg = res['avg_g_fp']\n",
    "    s = 'NaN' if (avg is None or (isinstance(avg,float) and np.isnan(avg))) else f\"{avg:.6f}\"\n",
    "    print(f'radius={r:.1f} | edges={res[\"num_edges\"]} | avg g_fp={s}')"
   ]
  },
  {
   "cell_type": "code",
   "execution_count": null,
   "id": "35675f97-e69e-4a60-b5f8-613677e42268",
   "metadata": {},
   "outputs": [],
   "source": []
  }
 ],
 "metadata": {
  "kernelspec": {
   "display_name": "Python 3 (ipykernel)",
   "language": "python",
   "name": "python3"
  },
  "language_info": {
   "codemirror_mode": {
    "name": "ipython",
    "version": 3
   },
   "file_extension": ".py",
   "mimetype": "text/x-python",
   "name": "python",
   "nbconvert_exporter": "python",
   "pygments_lexer": "ipython3",
   "version": "3.13.2"
  }
 },
 "nbformat": 4,
 "nbformat_minor": 5
}
