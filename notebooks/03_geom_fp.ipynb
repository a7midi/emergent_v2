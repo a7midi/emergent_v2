{
 "cells": [
  {
   "cell_type": "markdown",
   "id": "50b751af",
   "metadata": {},
   "source": [
    "# 03 · First‑Principles Curvature (Phase A)\n",
    "\n",
    "Compute Alexandrov interval chain counts and Benincasa–Dowker (BD)–style curvature **on existing edges**.\n",
    "\n",
    "**Note:** `bd_curvature_edge(site, (u,v), ...)` takes a direct arrow `u->v`. Calling it on a causal pair without a direct edge (e.g., `(0,3)` here) is invalid by design and will raise."
   ]
  },
  {
   "cell_type": "code",
   "execution_count": 1,
   "id": "4d2500f6",
   "metadata": {},
   "outputs": [
    {
     "data": {
      "text/plain": [
       "CausalSite(nodes=4, edges=4, layers=3, R=3)"
      ]
     },
     "execution_count": 1,
     "metadata": {},
     "output_type": "execute_result"
    }
   ],
   "source": [
    "import numpy as np\n",
    "from emergent.poset import CausalSite\n",
    "from emergent.geom_fp import alexandrov_interval, count_k_chains, bd_curvature_edge\n",
    "\n",
    "# Tiny 3‑layer site: edges (0->1), (0->2), (1->3), (2->3)\n",
    "nodes_by_depth = {0: [0], 1: [1, 2], 2: [3]}\n",
    "adj = {0: [1, 2], 1: [3], 2: [3]}\n",
    "site = CausalSite(nodes_by_depth, adj, R=3)\n",
    "site"
   ]
  },
  {
   "cell_type": "markdown",
   "id": "b54d49f0",
   "metadata": {},
   "source": [
    "### Alexandrov interval and chain counts\n",
    "The Alexandrov interval $I(0,3)$ includes all four nodes; chain counts are small and easy to inspect."
   ]
  },
  {
   "cell_type": "code",
   "execution_count": 2,
   "id": "5d8789db",
   "metadata": {},
   "outputs": [
    {
     "name": "stdout",
     "output_type": "stream",
     "text": [
      "Interval I(0,3) = {0, 1, 2, 3}\n",
      "C_1 = 4\n",
      "C_2 = 2\n",
      "C_3 = 0\n"
     ]
    }
   ],
   "source": [
    "I = alexandrov_interval(site, 0, 3)\n",
    "print(\"Interval I(0,3) =\", I)\n",
    "for k in (1, 2, 3):\n",
    "    print(f\"C_{k} =\", count_k_chains(site, I, k))"
   ]
  },
  {
   "cell_type": "markdown",
   "id": "87dd3fc4",
   "metadata": {},
   "source": [
    "### Edge curvature (valid arrows only)\n",
    "Choose any existing edge, e.g. `(1,3)` or `(0,1)`. For this tiny site the valid edges are `(0,1), (0,2), (1,3), (2,3)`."
   ]
  },
  {
   "cell_type": "code",
   "execution_count": 3,
   "id": "0f63f29f",
   "metadata": {},
   "outputs": [
    {
     "name": "stdout",
     "output_type": "stream",
     "text": [
      "Curvature on valid edges:\n",
      "  kappa_bd(0->1) = 1.0\n",
      "  kappa_bd(0->2) = 1.0\n",
      "  kappa_bd(1->3) = 1.0\n",
      "  kappa_bd(2->3) = 1.0\n"
     ]
    }
   ],
   "source": [
    "valid_edges = [(0, 1), (0, 2), (1, 3), (2, 3)]\n",
    "print(\"Curvature on valid edges:\")\n",
    "for (u, v) in valid_edges:\n",
    "    kappa = bd_curvature_edge(site, (u, v), scheme=\"4D-lite\")\n",
    "    print(f\"  kappa_bd({u}->{v}) = {kappa}\")"
   ]
  },
  {
   "cell_type": "markdown",
   "id": "c8f70dc4",
   "metadata": {},
   "source": [
    "### (Optional) Show the intended error on a non‑edge\n",
    "`(0,3)` is a causal pair but **not** a direct edge; attempting edge curvature there should raise."
   ]
  },
  {
   "cell_type": "code",
   "execution_count": 4,
   "id": "9c92e558",
   "metadata": {},
   "outputs": [
    {
     "name": "stdout",
     "output_type": "stream",
     "text": [
      "Expected error: Edge (0, 3) not present in site.\n"
     ]
    }
   ],
   "source": [
    "try:\n",
    "    _ = bd_curvature_edge(site, (0, 3), scheme=\"4D-lite\")\n",
    "except ValueError as e:\n",
    "    print(\"Expected error:\", e)"
   ]
  },
  {
   "cell_type": "code",
   "execution_count": null,
   "id": "8eb383cb-843d-4781-9389-911b041c0593",
   "metadata": {},
   "outputs": [],
   "source": []
  }
 ],
 "metadata": {
  "kernelspec": {
   "display_name": "Python 3 (ipykernel)",
   "language": "python",
   "name": "python3"
  },
  "language_info": {
   "codemirror_mode": {
    "name": "ipython",
    "version": 3
   },
   "file_extension": ".py",
   "mimetype": "text/x-python",
   "name": "python",
   "nbconvert_exporter": "python",
   "pygments_lexer": "ipython3",
   "version": "3.13.2"
  }
 },
 "nbformat": 4,
 "nbformat_minor": 5
}
